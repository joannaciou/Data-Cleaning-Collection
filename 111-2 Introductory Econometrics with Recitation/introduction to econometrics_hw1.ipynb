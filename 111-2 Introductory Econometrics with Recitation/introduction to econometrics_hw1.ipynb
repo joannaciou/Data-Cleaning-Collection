{
 "cells": [
  {
   "cell_type": "code",
   "execution_count": 1089,
   "id": "f9a4cf53",
   "metadata": {},
   "outputs": [],
   "source": [
    "# -*- coding: utf8 -*-\n",
    "import pandas as pd\n",
    "import csv"
   ]
  },
  {
   "cell_type": "code",
   "execution_count": 1090,
   "id": "bd61b80c",
   "metadata": {},
   "outputs": [],
   "source": [
    "df = pd.read_excel(\"collegename.xlsx\")"
   ]
  },
  {
   "cell_type": "code",
   "execution_count": 1091,
   "id": "f118efa3",
   "metadata": {},
   "outputs": [],
   "source": [
    "df = df.astype({'college': 'string'})"
   ]
  },
  {
   "cell_type": "code",
   "execution_count": 1081,
   "id": "334eab09",
   "metadata": {},
   "outputs": [],
   "source": [
    "df['college'] = list(map(lambda x: x.strip(' ').split(), df['college']))"
   ]
  },
  {
   "cell_type": "code",
   "execution_count": 1082,
   "id": "1e3c26c1",
   "metadata": {},
   "outputs": [],
   "source": [
    "for i in range(len(df['college'])):\n",
    "    if len(df['college'][i]) == 3:\n",
    "        df['college'][i].append(df['college'][i][2][-6:-3])\n",
    "        df['college'][i].append(df['college'][i][2][-3:])\n",
    "    if len(df['college'][i]) == 4:\n",
    "        df['college'][i].append(df['college'][i][3][2:5])\n",
    "        df['college'][i][3] = df['college'][i][3][0:2]    \n",
    "    else:\n",
    "        pass"
   ]
  },
  {
   "cell_type": "code",
   "execution_count": 1083,
   "id": "a0ff13a8",
   "metadata": {},
   "outputs": [],
   "source": [
    "df['department'] = list(map(lambda x: x[1], df['college']))\n",
    "df['dcode'] = list(map(lambda x: ''.join(x[2][0:4]), df['college']))\n",
    "df['scode'] = list(map(lambda x: ''.join(x[2][4:7]), df['college']))\n",
    "df['n1'] = list(map(lambda x: x[3], df['college']))\n",
    "df['n2'] = list(map(lambda x: x[4], df['college']))\n",
    "df['college'] = list(map(lambda x: x[0], df['college']))"
   ]
  },
  {
   "cell_type": "code",
   "execution_count": 1085,
   "id": "744b87d7",
   "metadata": {},
   "outputs": [
    {
     "data": {
      "text/html": [
       "<div>\n",
       "<style scoped>\n",
       "    .dataframe tbody tr th:only-of-type {\n",
       "        vertical-align: middle;\n",
       "    }\n",
       "\n",
       "    .dataframe tbody tr th {\n",
       "        vertical-align: top;\n",
       "    }\n",
       "\n",
       "    .dataframe thead th {\n",
       "        text-align: right;\n",
       "    }\n",
       "</style>\n",
       "<table border=\"1\" class=\"dataframe\">\n",
       "  <thead>\n",
       "    <tr style=\"text-align: right;\">\n",
       "      <th></th>\n",
       "      <th>college</th>\n",
       "      <th>department</th>\n",
       "      <th>dcode</th>\n",
       "      <th>scode</th>\n",
       "      <th>n1</th>\n",
       "      <th>n2</th>\n",
       "    </tr>\n",
       "  </thead>\n",
       "  <tbody>\n",
       "    <tr>\n",
       "      <th>0</th>\n",
       "      <td>國立臺灣大學</td>\n",
       "      <td>中國文學系</td>\n",
       "      <td>0001</td>\n",
       "      <td>001</td>\n",
       "      <td>41</td>\n",
       "      <td>41</td>\n",
       "    </tr>\n",
       "    <tr>\n",
       "      <th>1</th>\n",
       "      <td>國立臺灣大學</td>\n",
       "      <td>外國語文學系</td>\n",
       "      <td>0002</td>\n",
       "      <td>001</td>\n",
       "      <td>73</td>\n",
       "      <td>73</td>\n",
       "    </tr>\n",
       "    <tr>\n",
       "      <th>2</th>\n",
       "      <td>國立臺灣大學</td>\n",
       "      <td>歷史學系</td>\n",
       "      <td>0003</td>\n",
       "      <td>001</td>\n",
       "      <td>36</td>\n",
       "      <td>36</td>\n",
       "    </tr>\n",
       "    <tr>\n",
       "      <th>3</th>\n",
       "      <td>國立臺灣大學</td>\n",
       "      <td>哲學系</td>\n",
       "      <td>0004</td>\n",
       "      <td>001</td>\n",
       "      <td>36</td>\n",
       "      <td>36</td>\n",
       "    </tr>\n",
       "    <tr>\n",
       "      <th>4</th>\n",
       "      <td>國立臺灣大學</td>\n",
       "      <td>人類學系</td>\n",
       "      <td>0005</td>\n",
       "      <td>001</td>\n",
       "      <td>32</td>\n",
       "      <td>32</td>\n",
       "    </tr>\n",
       "  </tbody>\n",
       "</table>\n",
       "</div>"
      ],
      "text/plain": [
       "  college department dcode scode  n1  n2\n",
       "0  國立臺灣大學      中國文學系  0001   001  41  41\n",
       "1  國立臺灣大學     外國語文學系  0002   001  73  73\n",
       "2  國立臺灣大學       歷史學系  0003   001  36  36\n",
       "3  國立臺灣大學        哲學系  0004   001  36  36\n",
       "4  國立臺灣大學       人類學系  0005   001  32  32"
      ]
     },
     "execution_count": 1085,
     "metadata": {},
     "output_type": "execute_result"
    }
   ],
   "source": [
    "df.head()"
   ]
  },
  {
   "cell_type": "code",
   "execution_count": 1088,
   "id": "b3f50f90",
   "metadata": {},
   "outputs": [],
   "source": [
    "data = pd.DataFrame({'college':df['college'],'department':df['department'], 'dcode':df['dcode'], 'scode':df['scode'], 'n1':df['n1'], 'n2':df['n2']})\n",
    "data.to_excel('collegename_clean.xlsx', sheet_name='sheet1', index=False)"
   ]
  },
  {
   "cell_type": "code",
   "execution_count": null,
   "id": "25ca3c63",
   "metadata": {},
   "outputs": [],
   "source": []
  }
 ],
 "metadata": {
  "kernelspec": {
   "display_name": "Python 3",
   "language": "python",
   "name": "python3"
  },
  "language_info": {
   "codemirror_mode": {
    "name": "ipython",
    "version": 3
   },
   "file_extension": ".py",
   "mimetype": "text/x-python",
   "name": "python",
   "nbconvert_exporter": "python",
   "pygments_lexer": "ipython3",
   "version": "3.8.8"
  }
 },
 "nbformat": 4,
 "nbformat_minor": 5
}
